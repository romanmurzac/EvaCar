{
 "cells": [
  {
   "cell_type": "markdown",
   "metadata": {},
   "source": [
    "# EvaCar"
   ]
  },
  {
   "cell_type": "code",
   "execution_count": 82,
   "metadata": {},
   "outputs": [],
   "source": [
    "# Import necessary libraries, packages, and modules\n",
    "import pandas as pd\n",
    "import matplotlib.pyplot as plt\n",
    "import seaborn as sns\n",
    "import re\n",
    "\n",
    "from datetime import datetime"
   ]
  },
  {
   "cell_type": "markdown",
   "metadata": {},
   "source": [
    "## 1. Business understanding"
   ]
  },
  {
   "cell_type": "markdown",
   "metadata": {},
   "source": [
    "### 1.1. Initial analysis"
   ]
  },
  {
   "cell_type": "code",
   "execution_count": 3,
   "metadata": {},
   "outputs": [],
   "source": [
    "# Load data and create dataframe\n",
    "df = pd.read_csv(\"../datasets/RawDataDB.csv\")"
   ]
  },
  {
   "cell_type": "code",
   "execution_count": 4,
   "metadata": {},
   "outputs": [
    {
     "data": {
      "text/html": [
       "<div>\n",
       "<style scoped>\n",
       "    .dataframe tbody tr th:only-of-type {\n",
       "        vertical-align: middle;\n",
       "    }\n",
       "\n",
       "    .dataframe tbody tr th {\n",
       "        vertical-align: top;\n",
       "    }\n",
       "\n",
       "    .dataframe thead th {\n",
       "        text-align: right;\n",
       "    }\n",
       "</style>\n",
       "<table border=\"1\" class=\"dataframe\">\n",
       "  <thead>\n",
       "    <tr style=\"text-align: right;\">\n",
       "      <th></th>\n",
       "      <th>manufacturer</th>\n",
       "      <th>model</th>\n",
       "      <th>mileage</th>\n",
       "      <th>year</th>\n",
       "      <th>fuel</th>\n",
       "      <th>price</th>\n",
       "      <th>currency</th>\n",
       "      <th>city</th>\n",
       "      <th>county</th>\n",
       "      <th>status</th>\n",
       "      <th>short_description</th>\n",
       "      <th>long_description</th>\n",
       "    </tr>\n",
       "  </thead>\n",
       "  <tbody>\n",
       "    <tr>\n",
       "      <th>13473</th>\n",
       "      <td>Hyundai</td>\n",
       "      <td>Grand</td>\n",
       "      <td>187 517 km</td>\n",
       "      <td>2017</td>\n",
       "      <td>Diesel</td>\n",
       "      <td>22 750</td>\n",
       "      <td>EUR</td>\n",
       "      <td>Cluj-Napoca</td>\n",
       "      <td>Cluj</td>\n",
       "      <td>Publicat</td>\n",
       "      <td>Santa Fe 2.2 CRDi ISG 4WD Aut. Exclusive</td>\n",
       "      <td>2 199 cm3 • 200 CP • GARANTIE*RATE*4x4*200Cp*A...</td>\n",
       "    </tr>\n",
       "    <tr>\n",
       "      <th>13048</th>\n",
       "      <td>Ford</td>\n",
       "      <td>Focus</td>\n",
       "      <td>91 500 km</td>\n",
       "      <td>2018</td>\n",
       "      <td>Diesel</td>\n",
       "      <td>18 999</td>\n",
       "      <td>EUR</td>\n",
       "      <td>Cluj-Napoca</td>\n",
       "      <td>Cluj</td>\n",
       "      <td>Publicat</td>\n",
       "      <td>2.0 EcoBlue ST-Line</td>\n",
       "      <td>1 995 cm3 • 150 CP • Ford Focus ST Line 2.0/ T...</td>\n",
       "    </tr>\n",
       "    <tr>\n",
       "      <th>19381</th>\n",
       "      <td>Mercedes-Benz</td>\n",
       "      <td>S</td>\n",
       "      <td>165 000 km</td>\n",
       "      <td>2014</td>\n",
       "      <td>Benzina</td>\n",
       "      <td>29 899</td>\n",
       "      <td>EUR</td>\n",
       "      <td>Titesti</td>\n",
       "      <td>Arges</td>\n",
       "      <td>Publicat</td>\n",
       "      <td>[]</td>\n",
       "      <td>4 663 cm3 • 455 CP</td>\n",
       "    </tr>\n",
       "    <tr>\n",
       "      <th>16438</th>\n",
       "      <td>Mercedes-Benz</td>\n",
       "      <td>GLE 400</td>\n",
       "      <td>81 402 km</td>\n",
       "      <td>2020</td>\n",
       "      <td>Diesel</td>\n",
       "      <td>71 400</td>\n",
       "      <td>EUR</td>\n",
       "      <td>Braila</td>\n",
       "      <td>Braila</td>\n",
       "      <td>Reactualizat</td>\n",
       "      <td>d 4MATIC</td>\n",
       "      <td>2 925 cm3 • 330 CP • Mercedes-Benz GLE 400 d 4...</td>\n",
       "    </tr>\n",
       "    <tr>\n",
       "      <th>35633</th>\n",
       "      <td>Volvo</td>\n",
       "      <td>C40 Recharge</td>\n",
       "      <td>10 000 km</td>\n",
       "      <td>2022</td>\n",
       "      <td>Electric</td>\n",
       "      <td>69 459</td>\n",
       "      <td>EUR</td>\n",
       "      <td>Cluj-Napoca</td>\n",
       "      <td>Cluj</td>\n",
       "      <td>Reactualizat</td>\n",
       "      <td>Twin Motor AWD Plus</td>\n",
       "      <td>408 CP • Garantie producator / Rate / Leasing ...</td>\n",
       "    </tr>\n",
       "    <tr>\n",
       "      <th>3830</th>\n",
       "      <td>BMW</td>\n",
       "      <td>M8 Competition</td>\n",
       "      <td>65 000 km</td>\n",
       "      <td>2020</td>\n",
       "      <td>Benzina</td>\n",
       "      <td>89 900</td>\n",
       "      <td>EUR</td>\n",
       "      <td>Domnesti</td>\n",
       "      <td>Bucuresti</td>\n",
       "      <td>Reactualizat</td>\n",
       "      <td>Gran Coupe</td>\n",
       "      <td>4 395 cm3 • 625 CP • ‼️ Posibilitate RATE/LEAS...</td>\n",
       "    </tr>\n",
       "    <tr>\n",
       "      <th>15874</th>\n",
       "      <td>Land Rover</td>\n",
       "      <td>Range</td>\n",
       "      <td>210 000 km</td>\n",
       "      <td>2016</td>\n",
       "      <td>Diesel</td>\n",
       "      <td>31 900</td>\n",
       "      <td>EUR</td>\n",
       "      <td>Beclean</td>\n",
       "      <td>Bistrita-Nasaud</td>\n",
       "      <td>Publicat</td>\n",
       "      <td>Rover Vogue</td>\n",
       "      <td>4 390 cm3 • 300 CP • Land Rover Vogue Autobiog...</td>\n",
       "    </tr>\n",
       "    <tr>\n",
       "      <th>17275</th>\n",
       "      <td>Mercedes-Benz</td>\n",
       "      <td>S Maybach</td>\n",
       "      <td>20 km</td>\n",
       "      <td>2022</td>\n",
       "      <td>Benzina</td>\n",
       "      <td>228 118</td>\n",
       "      <td>EUR</td>\n",
       "      <td>Ilfov</td>\n",
       "      <td>Bucuresti</td>\n",
       "      <td>Publicat</td>\n",
       "      <td>Mercedes-Maybach 680 4MATIC Long</td>\n",
       "      <td>5 980 cm3 • 612 CP • Maybach S680/4D Sound Sys...</td>\n",
       "    </tr>\n",
       "    <tr>\n",
       "      <th>17671</th>\n",
       "      <td>Mercedes-Benz</td>\n",
       "      <td>CLA 250</td>\n",
       "      <td>237 000 km</td>\n",
       "      <td>2023</td>\n",
       "      <td>Hibrid</td>\n",
       "      <td>61 599</td>\n",
       "      <td>EUR</td>\n",
       "      <td>Voluntari</td>\n",
       "      <td>Bucuresti</td>\n",
       "      <td>Publicat</td>\n",
       "      <td>e Coupe</td>\n",
       "      <td>1 332 cm3 • 160 CP • Mercedes Benz CLA250e Coupe</td>\n",
       "    </tr>\n",
       "    <tr>\n",
       "      <th>33536</th>\n",
       "      <td>Volkswagen</td>\n",
       "      <td>Tiguan</td>\n",
       "      <td>117 000 km</td>\n",
       "      <td>2021</td>\n",
       "      <td>Hibrid</td>\n",
       "      <td>23 800</td>\n",
       "      <td>EUR</td>\n",
       "      <td>Valenii</td>\n",
       "      <td>de</td>\n",
       "      <td>Publicat</td>\n",
       "      <td>1.4 eHybrid OPF Elegance</td>\n",
       "      <td>1 395 cm3 • 150 CP • R LINE,1proprietar,dotari...</td>\n",
       "    </tr>\n",
       "  </tbody>\n",
       "</table>\n",
       "</div>"
      ],
      "text/plain": [
       "        manufacturer           model     mileage  year      fuel    price  \\\n",
       "13473        Hyundai           Grand  187 517 km  2017    Diesel   22 750   \n",
       "13048           Ford           Focus   91 500 km  2018    Diesel   18 999   \n",
       "19381  Mercedes-Benz               S  165 000 km  2014   Benzina   29 899   \n",
       "16438  Mercedes-Benz         GLE 400   81 402 km  2020    Diesel   71 400   \n",
       "35633          Volvo    C40 Recharge   10 000 km  2022  Electric   69 459   \n",
       "3830             BMW  M8 Competition   65 000 km  2020   Benzina   89 900   \n",
       "15874     Land Rover           Range  210 000 km  2016    Diesel   31 900   \n",
       "17275  Mercedes-Benz       S Maybach       20 km  2022   Benzina  228 118   \n",
       "17671  Mercedes-Benz         CLA 250  237 000 km  2023    Hibrid   61 599   \n",
       "33536     Volkswagen          Tiguan  117 000 km  2021    Hibrid   23 800   \n",
       "\n",
       "      currency         city           county         status  \\\n",
       "13473      EUR  Cluj-Napoca             Cluj      Publicat    \n",
       "13048      EUR  Cluj-Napoca             Cluj      Publicat    \n",
       "19381      EUR      Titesti            Arges      Publicat    \n",
       "16438      EUR       Braila           Braila  Reactualizat    \n",
       "35633      EUR  Cluj-Napoca             Cluj  Reactualizat    \n",
       "3830       EUR     Domnesti        Bucuresti  Reactualizat    \n",
       "15874      EUR      Beclean  Bistrita-Nasaud      Publicat    \n",
       "17275      EUR        Ilfov        Bucuresti      Publicat    \n",
       "17671      EUR    Voluntari        Bucuresti      Publicat    \n",
       "33536      EUR      Valenii               de      Publicat    \n",
       "\n",
       "                              short_description  \\\n",
       "13473  Santa Fe 2.2 CRDi ISG 4WD Aut. Exclusive   \n",
       "13048                       2.0 EcoBlue ST-Line   \n",
       "19381                                        []   \n",
       "16438                                  d 4MATIC   \n",
       "35633                       Twin Motor AWD Plus   \n",
       "3830                                 Gran Coupe   \n",
       "15874                               Rover Vogue   \n",
       "17275          Mercedes-Maybach 680 4MATIC Long   \n",
       "17671                                   e Coupe   \n",
       "33536                  1.4 eHybrid OPF Elegance   \n",
       "\n",
       "                                        long_description  \n",
       "13473  2 199 cm3 • 200 CP • GARANTIE*RATE*4x4*200Cp*A...  \n",
       "13048  1 995 cm3 • 150 CP • Ford Focus ST Line 2.0/ T...  \n",
       "19381                                 4 663 cm3 • 455 CP  \n",
       "16438  2 925 cm3 • 330 CP • Mercedes-Benz GLE 400 d 4...  \n",
       "35633  408 CP • Garantie producator / Rate / Leasing ...  \n",
       "3830   4 395 cm3 • 625 CP • ‼️ Posibilitate RATE/LEAS...  \n",
       "15874  4 390 cm3 • 300 CP • Land Rover Vogue Autobiog...  \n",
       "17275  5 980 cm3 • 612 CP • Maybach S680/4D Sound Sys...  \n",
       "17671   1 332 cm3 • 160 CP • Mercedes Benz CLA250e Coupe  \n",
       "33536  1 395 cm3 • 150 CP • R LINE,1proprietar,dotari...  "
      ]
     },
     "execution_count": 4,
     "metadata": {},
     "output_type": "execute_result"
    }
   ],
   "source": [
    "# Display a sample of data\n",
    "df.sample(10)"
   ]
  },
  {
   "cell_type": "code",
   "execution_count": 5,
   "metadata": {},
   "outputs": [
    {
     "data": {
      "text/html": [
       "<div>\n",
       "<style scoped>\n",
       "    .dataframe tbody tr th:only-of-type {\n",
       "        vertical-align: middle;\n",
       "    }\n",
       "\n",
       "    .dataframe tbody tr th {\n",
       "        vertical-align: top;\n",
       "    }\n",
       "\n",
       "    .dataframe thead th {\n",
       "        text-align: right;\n",
       "    }\n",
       "</style>\n",
       "<table border=\"1\" class=\"dataframe\">\n",
       "  <thead>\n",
       "    <tr style=\"text-align: right;\">\n",
       "      <th></th>\n",
       "      <th>manufacturer</th>\n",
       "      <th>model</th>\n",
       "      <th>mileage</th>\n",
       "      <th>year</th>\n",
       "      <th>fuel</th>\n",
       "      <th>price</th>\n",
       "      <th>currency</th>\n",
       "      <th>city</th>\n",
       "      <th>county</th>\n",
       "      <th>status</th>\n",
       "      <th>short_description</th>\n",
       "      <th>long_description</th>\n",
       "    </tr>\n",
       "  </thead>\n",
       "  <tbody>\n",
       "    <tr>\n",
       "      <th>count</th>\n",
       "      <td>36534</td>\n",
       "      <td>36534</td>\n",
       "      <td>36456</td>\n",
       "      <td>36534.000000</td>\n",
       "      <td>36534</td>\n",
       "      <td>36534</td>\n",
       "      <td>36534</td>\n",
       "      <td>36534</td>\n",
       "      <td>36532</td>\n",
       "      <td>36534</td>\n",
       "      <td>36400</td>\n",
       "      <td>36534</td>\n",
       "    </tr>\n",
       "    <tr>\n",
       "      <th>unique</th>\n",
       "      <td>64</td>\n",
       "      <td>1075</td>\n",
       "      <td>13600</td>\n",
       "      <td>NaN</td>\n",
       "      <td>6</td>\n",
       "      <td>6862</td>\n",
       "      <td>2</td>\n",
       "      <td>687</td>\n",
       "      <td>122</td>\n",
       "      <td>2</td>\n",
       "      <td>9676</td>\n",
       "      <td>30012</td>\n",
       "    </tr>\n",
       "    <tr>\n",
       "      <th>top</th>\n",
       "      <td>Mercedes-Benz</td>\n",
       "      <td>Passat</td>\n",
       "      <td>1 km</td>\n",
       "      <td>NaN</td>\n",
       "      <td>Diesel</td>\n",
       "      <td>7 990</td>\n",
       "      <td>EUR</td>\n",
       "      <td>Bucuresti</td>\n",
       "      <td>Bucuresti</td>\n",
       "      <td>Publicat</td>\n",
       "      <td>[]</td>\n",
       "      <td>1 968 cm3 • 150 CP</td>\n",
       "    </tr>\n",
       "    <tr>\n",
       "      <th>freq</th>\n",
       "      <td>4857</td>\n",
       "      <td>1144</td>\n",
       "      <td>704</td>\n",
       "      <td>NaN</td>\n",
       "      <td>22736</td>\n",
       "      <td>178</td>\n",
       "      <td>36499</td>\n",
       "      <td>8696</td>\n",
       "      <td>12848</td>\n",
       "      <td>20101</td>\n",
       "      <td>9024</td>\n",
       "      <td>216</td>\n",
       "    </tr>\n",
       "    <tr>\n",
       "      <th>mean</th>\n",
       "      <td>NaN</td>\n",
       "      <td>NaN</td>\n",
       "      <td>NaN</td>\n",
       "      <td>2016.112909</td>\n",
       "      <td>NaN</td>\n",
       "      <td>NaN</td>\n",
       "      <td>NaN</td>\n",
       "      <td>NaN</td>\n",
       "      <td>NaN</td>\n",
       "      <td>NaN</td>\n",
       "      <td>NaN</td>\n",
       "      <td>NaN</td>\n",
       "    </tr>\n",
       "    <tr>\n",
       "      <th>std</th>\n",
       "      <td>NaN</td>\n",
       "      <td>NaN</td>\n",
       "      <td>NaN</td>\n",
       "      <td>5.113379</td>\n",
       "      <td>NaN</td>\n",
       "      <td>NaN</td>\n",
       "      <td>NaN</td>\n",
       "      <td>NaN</td>\n",
       "      <td>NaN</td>\n",
       "      <td>NaN</td>\n",
       "      <td>NaN</td>\n",
       "      <td>NaN</td>\n",
       "    </tr>\n",
       "    <tr>\n",
       "      <th>min</th>\n",
       "      <td>NaN</td>\n",
       "      <td>NaN</td>\n",
       "      <td>NaN</td>\n",
       "      <td>1966.000000</td>\n",
       "      <td>NaN</td>\n",
       "      <td>NaN</td>\n",
       "      <td>NaN</td>\n",
       "      <td>NaN</td>\n",
       "      <td>NaN</td>\n",
       "      <td>NaN</td>\n",
       "      <td>NaN</td>\n",
       "      <td>NaN</td>\n",
       "    </tr>\n",
       "    <tr>\n",
       "      <th>25%</th>\n",
       "      <td>NaN</td>\n",
       "      <td>NaN</td>\n",
       "      <td>NaN</td>\n",
       "      <td>2013.000000</td>\n",
       "      <td>NaN</td>\n",
       "      <td>NaN</td>\n",
       "      <td>NaN</td>\n",
       "      <td>NaN</td>\n",
       "      <td>NaN</td>\n",
       "      <td>NaN</td>\n",
       "      <td>NaN</td>\n",
       "      <td>NaN</td>\n",
       "    </tr>\n",
       "    <tr>\n",
       "      <th>50%</th>\n",
       "      <td>NaN</td>\n",
       "      <td>NaN</td>\n",
       "      <td>NaN</td>\n",
       "      <td>2017.000000</td>\n",
       "      <td>NaN</td>\n",
       "      <td>NaN</td>\n",
       "      <td>NaN</td>\n",
       "      <td>NaN</td>\n",
       "      <td>NaN</td>\n",
       "      <td>NaN</td>\n",
       "      <td>NaN</td>\n",
       "      <td>NaN</td>\n",
       "    </tr>\n",
       "    <tr>\n",
       "      <th>75%</th>\n",
       "      <td>NaN</td>\n",
       "      <td>NaN</td>\n",
       "      <td>NaN</td>\n",
       "      <td>2020.000000</td>\n",
       "      <td>NaN</td>\n",
       "      <td>NaN</td>\n",
       "      <td>NaN</td>\n",
       "      <td>NaN</td>\n",
       "      <td>NaN</td>\n",
       "      <td>NaN</td>\n",
       "      <td>NaN</td>\n",
       "      <td>NaN</td>\n",
       "    </tr>\n",
       "    <tr>\n",
       "      <th>max</th>\n",
       "      <td>NaN</td>\n",
       "      <td>NaN</td>\n",
       "      <td>NaN</td>\n",
       "      <td>2024.000000</td>\n",
       "      <td>NaN</td>\n",
       "      <td>NaN</td>\n",
       "      <td>NaN</td>\n",
       "      <td>NaN</td>\n",
       "      <td>NaN</td>\n",
       "      <td>NaN</td>\n",
       "      <td>NaN</td>\n",
       "      <td>NaN</td>\n",
       "    </tr>\n",
       "  </tbody>\n",
       "</table>\n",
       "</div>"
      ],
      "text/plain": [
       "         manufacturer   model mileage          year    fuel  price currency  \\\n",
       "count           36534   36534   36456  36534.000000   36534  36534    36534   \n",
       "unique             64    1075   13600           NaN       6   6862        2   \n",
       "top     Mercedes-Benz  Passat    1 km           NaN  Diesel  7 990      EUR   \n",
       "freq             4857    1144     704           NaN   22736    178    36499   \n",
       "mean              NaN     NaN     NaN   2016.112909     NaN    NaN      NaN   \n",
       "std               NaN     NaN     NaN      5.113379     NaN    NaN      NaN   \n",
       "min               NaN     NaN     NaN   1966.000000     NaN    NaN      NaN   \n",
       "25%               NaN     NaN     NaN   2013.000000     NaN    NaN      NaN   \n",
       "50%               NaN     NaN     NaN   2017.000000     NaN    NaN      NaN   \n",
       "75%               NaN     NaN     NaN   2020.000000     NaN    NaN      NaN   \n",
       "max               NaN     NaN     NaN   2024.000000     NaN    NaN      NaN   \n",
       "\n",
       "             city     county     status short_description    long_description  \n",
       "count       36534      36532      36534             36400               36534  \n",
       "unique        687        122          2              9676               30012  \n",
       "top     Bucuresti  Bucuresti  Publicat                 []  1 968 cm3 • 150 CP  \n",
       "freq         8696      12848      20101              9024                 216  \n",
       "mean          NaN        NaN        NaN               NaN                 NaN  \n",
       "std           NaN        NaN        NaN               NaN                 NaN  \n",
       "min           NaN        NaN        NaN               NaN                 NaN  \n",
       "25%           NaN        NaN        NaN               NaN                 NaN  \n",
       "50%           NaN        NaN        NaN               NaN                 NaN  \n",
       "75%           NaN        NaN        NaN               NaN                 NaN  \n",
       "max           NaN        NaN        NaN               NaN                 NaN  "
      ]
     },
     "execution_count": 5,
     "metadata": {},
     "output_type": "execute_result"
    }
   ],
   "source": [
    "# Describe \n",
    "df.describe(include=\"all\")"
   ]
  },
  {
   "cell_type": "code",
   "execution_count": 6,
   "metadata": {},
   "outputs": [
    {
     "name": "stdout",
     "output_type": "stream",
     "text": [
      "<class 'pandas.core.frame.DataFrame'>\n",
      "RangeIndex: 36534 entries, 0 to 36533\n",
      "Data columns (total 12 columns):\n",
      " #   Column             Non-Null Count  Dtype \n",
      "---  ------             --------------  ----- \n",
      " 0   manufacturer       36534 non-null  object\n",
      " 1   model              36534 non-null  object\n",
      " 2   mileage            36456 non-null  object\n",
      " 3   year               36534 non-null  int64 \n",
      " 4   fuel               36534 non-null  object\n",
      " 5   price              36534 non-null  object\n",
      " 6   currency           36534 non-null  object\n",
      " 7   city               36534 non-null  object\n",
      " 8   county             36532 non-null  object\n",
      " 9   status             36534 non-null  object\n",
      " 10  short_description  36400 non-null  object\n",
      " 11  long_description   36534 non-null  object\n",
      "dtypes: int64(1), object(11)\n",
      "memory usage: 3.3+ MB\n"
     ]
    }
   ],
   "source": [
    "# Display information\n",
    "df.info()"
   ]
  },
  {
   "cell_type": "markdown",
   "metadata": {},
   "source": [
    "### 1.2. Process data"
   ]
  },
  {
   "cell_type": "code",
   "execution_count": 7,
   "metadata": {},
   "outputs": [],
   "source": [
    "# Extract data based on specific element\n",
    "def extract_data(raw_data: str, splitter: str, specific_element: str) -> str:\n",
    "    \"\"\"\n",
    "    Take a raw elements and return specific part of it\n",
    "    \"\"\"\n",
    "    element = 0\n",
    "    if type(raw_data) == str:\n",
    "        raw_element = raw_data.split(f\"{splitter}\")\n",
    "        for modified_element in raw_element:\n",
    "            if element == 0:\n",
    "                if modified_element.endswith(f\"{specific_element}\"):\n",
    "                    element = \"\".join(modified_element.split(\" \")[:-1])\n",
    "    raw_data = element\n",
    "    \n",
    "    return raw_data\n",
    "\n",
    "\n",
    "# Remove spaces\n",
    "def remove_space(raw_data: str) -> str:\n",
    "    \"\"\"\n",
    "    Take a raw element and return element with removed white spaces\n",
    "    \"\"\"\n",
    "    raw_data = \"\".join(raw_data.split(\" \"))\n",
    "    \n",
    "    return raw_data"
   ]
  },
  {
   "cell_type": "code",
   "execution_count": 8,
   "metadata": {},
   "outputs": [],
   "source": [
    "# Add capacity column\n",
    "capacity = df[\"long_description\"].apply(extract_data, args=[\" • \", \"cm3\"])\n",
    "df.insert(loc=3, column=\"capacity\", value=capacity)"
   ]
  },
  {
   "cell_type": "code",
   "execution_count": 9,
   "metadata": {},
   "outputs": [],
   "source": [
    "# Add power column\n",
    "power = df[\"long_description\"].apply(extract_data, args=[\" • \", \"CP\"])\n",
    "df.insert(loc=4, column=\"power\", value=power)"
   ]
  },
  {
   "cell_type": "code",
   "execution_count": 10,
   "metadata": {},
   "outputs": [],
   "source": [
    "# Delete unnecessary columns\n",
    "df = df.drop(columns=['short_description', 'long_description'])"
   ]
  },
  {
   "cell_type": "code",
   "execution_count": 11,
   "metadata": {},
   "outputs": [],
   "source": [
    "# Process mileage column\n",
    "df[\"mileage\"] = df[\"mileage\"].apply(extract_data, args=[\" • \", \"km\"])"
   ]
  },
  {
   "cell_type": "code",
   "execution_count": 12,
   "metadata": {},
   "outputs": [],
   "source": [
    "# Remove white spaces from price column\n",
    "df[\"price\"] = df[\"price\"].apply(remove_space)"
   ]
  },
  {
   "cell_type": "code",
   "execution_count": 13,
   "metadata": {},
   "outputs": [],
   "source": [
    "# Replace NaN values with zero in mileage column\n",
    "df['mileage'] = df['mileage'].fillna(0)"
   ]
  },
  {
   "cell_type": "code",
   "execution_count": 14,
   "metadata": {},
   "outputs": [],
   "source": [
    "# Change data types\n",
    "data_types = {\"mileage\": int,\n",
    "              \"capacity\": int,\n",
    "              \"power\": int,\n",
    "              \"year\": int,\n",
    "              \"price\": int}\n",
    "\n",
    "df = df.astype(data_types)"
   ]
  },
  {
   "cell_type": "markdown",
   "metadata": {},
   "source": [
    "### 1.3. Final analysis"
   ]
  },
  {
   "cell_type": "code",
   "execution_count": 15,
   "metadata": {},
   "outputs": [
    {
     "data": {
      "text/html": [
       "<div>\n",
       "<style scoped>\n",
       "    .dataframe tbody tr th:only-of-type {\n",
       "        vertical-align: middle;\n",
       "    }\n",
       "\n",
       "    .dataframe tbody tr th {\n",
       "        vertical-align: top;\n",
       "    }\n",
       "\n",
       "    .dataframe thead th {\n",
       "        text-align: right;\n",
       "    }\n",
       "</style>\n",
       "<table border=\"1\" class=\"dataframe\">\n",
       "  <thead>\n",
       "    <tr style=\"text-align: right;\">\n",
       "      <th></th>\n",
       "      <th>manufacturer</th>\n",
       "      <th>model</th>\n",
       "      <th>mileage</th>\n",
       "      <th>capacity</th>\n",
       "      <th>power</th>\n",
       "      <th>year</th>\n",
       "      <th>fuel</th>\n",
       "      <th>price</th>\n",
       "      <th>currency</th>\n",
       "      <th>city</th>\n",
       "      <th>county</th>\n",
       "      <th>status</th>\n",
       "    </tr>\n",
       "  </thead>\n",
       "  <tbody>\n",
       "    <tr>\n",
       "      <th>35891</th>\n",
       "      <td>Volvo</td>\n",
       "      <td>XC 90</td>\n",
       "      <td>16000</td>\n",
       "      <td>1969</td>\n",
       "      <td>235</td>\n",
       "      <td>2019</td>\n",
       "      <td>Diesel</td>\n",
       "      <td>55979</td>\n",
       "      <td>EUR</td>\n",
       "      <td>Bucuresti</td>\n",
       "      <td>Bucuresti</td>\n",
       "      <td>Reactualizat</td>\n",
       "    </tr>\n",
       "    <tr>\n",
       "      <th>18127</th>\n",
       "      <td>Mercedes-Benz</td>\n",
       "      <td>GLE 250</td>\n",
       "      <td>192000</td>\n",
       "      <td>2143</td>\n",
       "      <td>204</td>\n",
       "      <td>2017</td>\n",
       "      <td>Diesel</td>\n",
       "      <td>26950</td>\n",
       "      <td>EUR</td>\n",
       "      <td>Baia</td>\n",
       "      <td>Mare</td>\n",
       "      <td>Publicat</td>\n",
       "    </tr>\n",
       "    <tr>\n",
       "      <th>16734</th>\n",
       "      <td>Mercedes-Benz</td>\n",
       "      <td>S 500</td>\n",
       "      <td>224000</td>\n",
       "      <td>2999</td>\n",
       "      <td>435</td>\n",
       "      <td>2021</td>\n",
       "      <td>Diesel</td>\n",
       "      <td>105000</td>\n",
       "      <td>EUR</td>\n",
       "      <td>Voluntari</td>\n",
       "      <td>Bucuresti</td>\n",
       "      <td>Reactualizat</td>\n",
       "    </tr>\n",
       "    <tr>\n",
       "      <th>14919</th>\n",
       "      <td>Kia</td>\n",
       "      <td>XCeed</td>\n",
       "      <td>37900</td>\n",
       "      <td>1580</td>\n",
       "      <td>105</td>\n",
       "      <td>2021</td>\n",
       "      <td>Hibrid</td>\n",
       "      <td>20690</td>\n",
       "      <td>EUR</td>\n",
       "      <td>Iasi</td>\n",
       "      <td>Iasi</td>\n",
       "      <td>Reactualizat</td>\n",
       "    </tr>\n",
       "    <tr>\n",
       "      <th>23375</th>\n",
       "      <td>Opel</td>\n",
       "      <td>Astra</td>\n",
       "      <td>241972</td>\n",
       "      <td>1956</td>\n",
       "      <td>164</td>\n",
       "      <td>2012</td>\n",
       "      <td>Diesel</td>\n",
       "      <td>4700</td>\n",
       "      <td>EUR</td>\n",
       "      <td>Bucuresti</td>\n",
       "      <td>Bucuresti</td>\n",
       "      <td>Publicat</td>\n",
       "    </tr>\n",
       "    <tr>\n",
       "      <th>33600</th>\n",
       "      <td>Volkswagen</td>\n",
       "      <td>Polo</td>\n",
       "      <td>230000</td>\n",
       "      <td>1198</td>\n",
       "      <td>64</td>\n",
       "      <td>2007</td>\n",
       "      <td>Benzina</td>\n",
       "      <td>2790</td>\n",
       "      <td>EUR</td>\n",
       "      <td>Targu</td>\n",
       "      <td>Secuiesc</td>\n",
       "      <td>Publicat</td>\n",
       "    </tr>\n",
       "    <tr>\n",
       "      <th>30503</th>\n",
       "      <td>Toyota</td>\n",
       "      <td>RAV4</td>\n",
       "      <td>1000</td>\n",
       "      <td>2487</td>\n",
       "      <td>185</td>\n",
       "      <td>2023</td>\n",
       "      <td>Hibrid</td>\n",
       "      <td>39975</td>\n",
       "      <td>EUR</td>\n",
       "      <td>Alba</td>\n",
       "      <td>Iulia</td>\n",
       "      <td>Publicat</td>\n",
       "    </tr>\n",
       "    <tr>\n",
       "      <th>18018</th>\n",
       "      <td>Mercedes-Benz</td>\n",
       "      <td>Sprinter 313</td>\n",
       "      <td>163294</td>\n",
       "      <td>2148</td>\n",
       "      <td>129</td>\n",
       "      <td>2006</td>\n",
       "      <td>Diesel</td>\n",
       "      <td>6700</td>\n",
       "      <td>EUR</td>\n",
       "      <td>Alba</td>\n",
       "      <td>Iulia</td>\n",
       "      <td>Reactualizat</td>\n",
       "    </tr>\n",
       "    <tr>\n",
       "      <th>3709</th>\n",
       "      <td>BMW</td>\n",
       "      <td>Seria 7</td>\n",
       "      <td>196000</td>\n",
       "      <td>2993</td>\n",
       "      <td>265</td>\n",
       "      <td>2016</td>\n",
       "      <td>Diesel</td>\n",
       "      <td>34900</td>\n",
       "      <td>EUR</td>\n",
       "      <td>Bucuresti</td>\n",
       "      <td>Bucuresti</td>\n",
       "      <td>Publicat</td>\n",
       "    </tr>\n",
       "    <tr>\n",
       "      <th>24202</th>\n",
       "      <td>Peugeot</td>\n",
       "      <td>5008</td>\n",
       "      <td>101223</td>\n",
       "      <td>1997</td>\n",
       "      <td>180</td>\n",
       "      <td>2018</td>\n",
       "      <td>Diesel</td>\n",
       "      <td>25990</td>\n",
       "      <td>EUR</td>\n",
       "      <td>Cluj-Napoca</td>\n",
       "      <td>Cluj</td>\n",
       "      <td>Publicat</td>\n",
       "    </tr>\n",
       "  </tbody>\n",
       "</table>\n",
       "</div>"
      ],
      "text/plain": [
       "        manufacturer         model  mileage  capacity  power  year     fuel  \\\n",
       "35891          Volvo         XC 90    16000      1969    235  2019   Diesel   \n",
       "18127  Mercedes-Benz       GLE 250   192000      2143    204  2017   Diesel   \n",
       "16734  Mercedes-Benz         S 500   224000      2999    435  2021   Diesel   \n",
       "14919            Kia         XCeed    37900      1580    105  2021   Hibrid   \n",
       "23375           Opel         Astra   241972      1956    164  2012   Diesel   \n",
       "33600     Volkswagen          Polo   230000      1198     64  2007  Benzina   \n",
       "30503         Toyota          RAV4     1000      2487    185  2023   Hibrid   \n",
       "18018  Mercedes-Benz  Sprinter 313   163294      2148    129  2006   Diesel   \n",
       "3709             BMW       Seria 7   196000      2993    265  2016   Diesel   \n",
       "24202        Peugeot          5008   101223      1997    180  2018   Diesel   \n",
       "\n",
       "        price currency         city     county         status  \n",
       "35891   55979      EUR    Bucuresti  Bucuresti  Reactualizat   \n",
       "18127   26950      EUR         Baia       Mare      Publicat   \n",
       "16734  105000      EUR    Voluntari  Bucuresti  Reactualizat   \n",
       "14919   20690      EUR         Iasi       Iasi  Reactualizat   \n",
       "23375    4700      EUR    Bucuresti  Bucuresti      Publicat   \n",
       "33600    2790      EUR        Targu   Secuiesc      Publicat   \n",
       "30503   39975      EUR         Alba      Iulia      Publicat   \n",
       "18018    6700      EUR         Alba      Iulia  Reactualizat   \n",
       "3709    34900      EUR    Bucuresti  Bucuresti      Publicat   \n",
       "24202   25990      EUR  Cluj-Napoca       Cluj      Publicat   "
      ]
     },
     "execution_count": 15,
     "metadata": {},
     "output_type": "execute_result"
    }
   ],
   "source": [
    "# Display a sample of data\n",
    "df.sample(10)"
   ]
  },
  {
   "cell_type": "code",
   "execution_count": 16,
   "metadata": {},
   "outputs": [
    {
     "data": {
      "text/html": [
       "<div>\n",
       "<style scoped>\n",
       "    .dataframe tbody tr th:only-of-type {\n",
       "        vertical-align: middle;\n",
       "    }\n",
       "\n",
       "    .dataframe tbody tr th {\n",
       "        vertical-align: top;\n",
       "    }\n",
       "\n",
       "    .dataframe thead th {\n",
       "        text-align: right;\n",
       "    }\n",
       "</style>\n",
       "<table border=\"1\" class=\"dataframe\">\n",
       "  <thead>\n",
       "    <tr style=\"text-align: right;\">\n",
       "      <th></th>\n",
       "      <th>manufacturer</th>\n",
       "      <th>model</th>\n",
       "      <th>mileage</th>\n",
       "      <th>capacity</th>\n",
       "      <th>power</th>\n",
       "      <th>year</th>\n",
       "      <th>fuel</th>\n",
       "      <th>price</th>\n",
       "      <th>currency</th>\n",
       "      <th>city</th>\n",
       "      <th>county</th>\n",
       "      <th>status</th>\n",
       "    </tr>\n",
       "  </thead>\n",
       "  <tbody>\n",
       "    <tr>\n",
       "      <th>count</th>\n",
       "      <td>36534</td>\n",
       "      <td>36534</td>\n",
       "      <td>3.653400e+04</td>\n",
       "      <td>36534.000000</td>\n",
       "      <td>36534.000000</td>\n",
       "      <td>36534.000000</td>\n",
       "      <td>36534</td>\n",
       "      <td>36534.000000</td>\n",
       "      <td>36534</td>\n",
       "      <td>36534</td>\n",
       "      <td>36532</td>\n",
       "      <td>36534</td>\n",
       "    </tr>\n",
       "    <tr>\n",
       "      <th>unique</th>\n",
       "      <td>64</td>\n",
       "      <td>1075</td>\n",
       "      <td>NaN</td>\n",
       "      <td>NaN</td>\n",
       "      <td>NaN</td>\n",
       "      <td>NaN</td>\n",
       "      <td>6</td>\n",
       "      <td>NaN</td>\n",
       "      <td>2</td>\n",
       "      <td>687</td>\n",
       "      <td>122</td>\n",
       "      <td>2</td>\n",
       "    </tr>\n",
       "    <tr>\n",
       "      <th>top</th>\n",
       "      <td>Mercedes-Benz</td>\n",
       "      <td>Passat</td>\n",
       "      <td>NaN</td>\n",
       "      <td>NaN</td>\n",
       "      <td>NaN</td>\n",
       "      <td>NaN</td>\n",
       "      <td>Diesel</td>\n",
       "      <td>NaN</td>\n",
       "      <td>EUR</td>\n",
       "      <td>Bucuresti</td>\n",
       "      <td>Bucuresti</td>\n",
       "      <td>Publicat</td>\n",
       "    </tr>\n",
       "    <tr>\n",
       "      <th>freq</th>\n",
       "      <td>4857</td>\n",
       "      <td>1144</td>\n",
       "      <td>NaN</td>\n",
       "      <td>NaN</td>\n",
       "      <td>NaN</td>\n",
       "      <td>NaN</td>\n",
       "      <td>22736</td>\n",
       "      <td>NaN</td>\n",
       "      <td>36499</td>\n",
       "      <td>8696</td>\n",
       "      <td>12848</td>\n",
       "      <td>20101</td>\n",
       "    </tr>\n",
       "    <tr>\n",
       "      <th>mean</th>\n",
       "      <td>NaN</td>\n",
       "      <td>NaN</td>\n",
       "      <td>1.395080e+05</td>\n",
       "      <td>1949.920184</td>\n",
       "      <td>181.762933</td>\n",
       "      <td>2016.112909</td>\n",
       "      <td>NaN</td>\n",
       "      <td>27166.135134</td>\n",
       "      <td>NaN</td>\n",
       "      <td>NaN</td>\n",
       "      <td>NaN</td>\n",
       "      <td>NaN</td>\n",
       "    </tr>\n",
       "    <tr>\n",
       "      <th>std</th>\n",
       "      <td>NaN</td>\n",
       "      <td>NaN</td>\n",
       "      <td>9.784439e+04</td>\n",
       "      <td>768.616655</td>\n",
       "      <td>100.162335</td>\n",
       "      <td>5.113379</td>\n",
       "      <td>NaN</td>\n",
       "      <td>35552.730026</td>\n",
       "      <td>NaN</td>\n",
       "      <td>NaN</td>\n",
       "      <td>NaN</td>\n",
       "      <td>NaN</td>\n",
       "    </tr>\n",
       "    <tr>\n",
       "      <th>min</th>\n",
       "      <td>NaN</td>\n",
       "      <td>NaN</td>\n",
       "      <td>0.000000e+00</td>\n",
       "      <td>0.000000</td>\n",
       "      <td>0.000000</td>\n",
       "      <td>1966.000000</td>\n",
       "      <td>NaN</td>\n",
       "      <td>300.000000</td>\n",
       "      <td>NaN</td>\n",
       "      <td>NaN</td>\n",
       "      <td>NaN</td>\n",
       "      <td>NaN</td>\n",
       "    </tr>\n",
       "    <tr>\n",
       "      <th>25%</th>\n",
       "      <td>NaN</td>\n",
       "      <td>NaN</td>\n",
       "      <td>6.140000e+04</td>\n",
       "      <td>1498.000000</td>\n",
       "      <td>115.000000</td>\n",
       "      <td>2013.000000</td>\n",
       "      <td>NaN</td>\n",
       "      <td>8857.500000</td>\n",
       "      <td>NaN</td>\n",
       "      <td>NaN</td>\n",
       "      <td>NaN</td>\n",
       "      <td>NaN</td>\n",
       "    </tr>\n",
       "    <tr>\n",
       "      <th>50%</th>\n",
       "      <td>NaN</td>\n",
       "      <td>NaN</td>\n",
       "      <td>1.440000e+05</td>\n",
       "      <td>1968.000000</td>\n",
       "      <td>150.000000</td>\n",
       "      <td>2017.000000</td>\n",
       "      <td>NaN</td>\n",
       "      <td>15991.000000</td>\n",
       "      <td>NaN</td>\n",
       "      <td>NaN</td>\n",
       "      <td>NaN</td>\n",
       "      <td>NaN</td>\n",
       "    </tr>\n",
       "    <tr>\n",
       "      <th>75%</th>\n",
       "      <td>NaN</td>\n",
       "      <td>NaN</td>\n",
       "      <td>2.060000e+05</td>\n",
       "      <td>1999.000000</td>\n",
       "      <td>204.000000</td>\n",
       "      <td>2020.000000</td>\n",
       "      <td>NaN</td>\n",
       "      <td>30999.000000</td>\n",
       "      <td>NaN</td>\n",
       "      <td>NaN</td>\n",
       "      <td>NaN</td>\n",
       "      <td>NaN</td>\n",
       "    </tr>\n",
       "    <tr>\n",
       "      <th>max</th>\n",
       "      <td>NaN</td>\n",
       "      <td>NaN</td>\n",
       "      <td>2.800000e+06</td>\n",
       "      <td>8200.000000</td>\n",
       "      <td>1020.000000</td>\n",
       "      <td>2024.000000</td>\n",
       "      <td>NaN</td>\n",
       "      <td>918680.000000</td>\n",
       "      <td>NaN</td>\n",
       "      <td>NaN</td>\n",
       "      <td>NaN</td>\n",
       "      <td>NaN</td>\n",
       "    </tr>\n",
       "  </tbody>\n",
       "</table>\n",
       "</div>"
      ],
      "text/plain": [
       "         manufacturer   model       mileage      capacity         power  \\\n",
       "count           36534   36534  3.653400e+04  36534.000000  36534.000000   \n",
       "unique             64    1075           NaN           NaN           NaN   \n",
       "top     Mercedes-Benz  Passat           NaN           NaN           NaN   \n",
       "freq             4857    1144           NaN           NaN           NaN   \n",
       "mean              NaN     NaN  1.395080e+05   1949.920184    181.762933   \n",
       "std               NaN     NaN  9.784439e+04    768.616655    100.162335   \n",
       "min               NaN     NaN  0.000000e+00      0.000000      0.000000   \n",
       "25%               NaN     NaN  6.140000e+04   1498.000000    115.000000   \n",
       "50%               NaN     NaN  1.440000e+05   1968.000000    150.000000   \n",
       "75%               NaN     NaN  2.060000e+05   1999.000000    204.000000   \n",
       "max               NaN     NaN  2.800000e+06   8200.000000   1020.000000   \n",
       "\n",
       "                year    fuel          price currency       city     county  \\\n",
       "count   36534.000000   36534   36534.000000    36534      36534      36532   \n",
       "unique           NaN       6            NaN        2        687        122   \n",
       "top              NaN  Diesel            NaN      EUR  Bucuresti  Bucuresti   \n",
       "freq             NaN   22736            NaN    36499       8696      12848   \n",
       "mean     2016.112909     NaN   27166.135134      NaN        NaN        NaN   \n",
       "std         5.113379     NaN   35552.730026      NaN        NaN        NaN   \n",
       "min      1966.000000     NaN     300.000000      NaN        NaN        NaN   \n",
       "25%      2013.000000     NaN    8857.500000      NaN        NaN        NaN   \n",
       "50%      2017.000000     NaN   15991.000000      NaN        NaN        NaN   \n",
       "75%      2020.000000     NaN   30999.000000      NaN        NaN        NaN   \n",
       "max      2024.000000     NaN  918680.000000      NaN        NaN        NaN   \n",
       "\n",
       "           status  \n",
       "count       36534  \n",
       "unique          2  \n",
       "top     Publicat   \n",
       "freq        20101  \n",
       "mean          NaN  \n",
       "std           NaN  \n",
       "min           NaN  \n",
       "25%           NaN  \n",
       "50%           NaN  \n",
       "75%           NaN  \n",
       "max           NaN  "
      ]
     },
     "execution_count": 16,
     "metadata": {},
     "output_type": "execute_result"
    }
   ],
   "source": [
    "# Describe \n",
    "df.describe(include=\"all\")"
   ]
  },
  {
   "cell_type": "code",
   "execution_count": 17,
   "metadata": {},
   "outputs": [
    {
     "name": "stdout",
     "output_type": "stream",
     "text": [
      "<class 'pandas.core.frame.DataFrame'>\n",
      "RangeIndex: 36534 entries, 0 to 36533\n",
      "Data columns (total 12 columns):\n",
      " #   Column        Non-Null Count  Dtype \n",
      "---  ------        --------------  ----- \n",
      " 0   manufacturer  36534 non-null  object\n",
      " 1   model         36534 non-null  object\n",
      " 2   mileage       36534 non-null  int32 \n",
      " 3   capacity      36534 non-null  int32 \n",
      " 4   power         36534 non-null  int32 \n",
      " 5   year          36534 non-null  int32 \n",
      " 6   fuel          36534 non-null  object\n",
      " 7   price         36534 non-null  int32 \n",
      " 8   currency      36534 non-null  object\n",
      " 9   city          36534 non-null  object\n",
      " 10  county        36532 non-null  object\n",
      " 11  status        36534 non-null  object\n",
      "dtypes: int32(5), object(7)\n",
      "memory usage: 2.6+ MB\n"
     ]
    }
   ],
   "source": [
    "# Display information\n",
    "df.info()"
   ]
  },
  {
   "cell_type": "code",
   "execution_count": 18,
   "metadata": {},
   "outputs": [],
   "source": [
    "# Save processed dataframe to CSV\n",
    "df.to_csv(\"../datasets/ProcessedDataDB.csv\")"
   ]
  },
  {
   "cell_type": "markdown",
   "metadata": {},
   "source": [
    "## 2. Data understanding"
   ]
  },
  {
   "cell_type": "markdown",
   "metadata": {},
   "source": [
    "### 2.1. Answer business questions"
   ]
  },
  {
   "cell_type": "code",
   "execution_count": 19,
   "metadata": {},
   "outputs": [
    {
     "name": "stdout",
     "output_type": "stream",
     "text": [
      "Number of cars used in current analyze is equal to 36534 cars.\n"
     ]
    }
   ],
   "source": [
    "# 1. How many cars are used in the analyze?\n",
    "no_analyzed_cars = df.shape[0]\n",
    "print(f\"Number of cars used in current analyze is equal to {no_analyzed_cars} cars.\")"
   ]
  },
  {
   "cell_type": "code",
   "execution_count": 20,
   "metadata": {},
   "outputs": [
    {
     "name": "stdout",
     "output_type": "stream",
     "text": [
      "The most expensive car in current analyze is Ferrari Purosangue that costs 918680 EUR.\n"
     ]
    }
   ],
   "source": [
    "# 2.1. Which is the most expensive car?\n",
    "expensive_car = df.loc[df['price'] == df['price'].max()]\n",
    "print(f\"The most expensive car in current analyze is {expensive_car.iloc[0,0]} {expensive_car.iloc[0,1]} that costs {expensive_car.iloc[0,7]} {expensive_car.iloc[0,8]}.\")"
   ]
  },
  {
   "cell_type": "code",
   "execution_count": 265,
   "metadata": {},
   "outputs": [
    {
     "data": {
      "image/png": "[encoded data removed]",
      "text/plain": [
       "<Figure size 1000x600 with 1 Axes>"
      ]
     },
     "metadata": {},
     "output_type": "display_data"
    }
   ],
   "source": [
    "# 2.1.1. Plot 10 most expensive cars\n",
    "top_10_cars = df.sort_values(by=\"price\", ascending=False).head(10)\n",
    "\n",
    "# Generate list with names\n",
    "top_10_names = []\n",
    "for index in range(10):\n",
    "    top_10_names.append(f\"{index+1}.{top_10_cars['manufacturer'].iloc[index]} {top_10_cars['model'].iloc[index]}\")\n",
    "\n",
    "# Plot Top 10 expensive cars\n",
    "fig, ax = plt.subplots(figsize=(10, 6))\n",
    "ax.bar(top_10_names, top_10_cars['price'])\n",
    "ax.set_xticks(top_10_names)\n",
    "ax.set_xticklabels(top_10_names, rotation=60)\n",
    "ax.set_xlabel('Car name')\n",
    "ax.set_ylabel('Price')\n",
    "ax.set_title('Top 10 Highest Price')\n",
    "plt.show()"
   ]
  },
  {
   "cell_type": "code",
   "execution_count": 218,
   "metadata": {},
   "outputs": [
    {
     "name": "stdout",
     "output_type": "stream",
     "text": [
      "The cheapest car in current analyze is Volkswagen Golf that costs 300 EUR.\n"
     ]
    }
   ],
   "source": [
    "# 2.2. Which is the cheapest car?\n",
    "cheap_car = df.loc[df['price'] == df['price'].min()]\n",
    "print(f\"The cheapest car in current analyze is {cheap_car.iloc[0,0]} {cheap_car.iloc[0,1]} that costs {cheap_car.iloc[0,7]} {cheap_car.iloc[0,8]}.\")"
   ]
  },
  {
   "cell_type": "code",
   "execution_count": 268,
   "metadata": {},
   "outputs": [
    {
     "data": {
      "image/png": "[encoded data removed]",
      "text/plain": [
       "<Figure size 1000x600 with 1 Axes>"
      ]
     },
     "metadata": {},
     "output_type": "display_data"
    }
   ],
   "source": [
    "# 2.2.1. Plot 10 cheapest cars\n",
    "bottom_10_cars = df.sort_values(by=\"price\", ascending=True).head(10)\n",
    "\n",
    "# Generate list with names\n",
    "bottom_10_names = []\n",
    "for index in range(10):\n",
    "    bottom_10_names.append(f\"{index+1}.{bottom_10_cars['manufacturer'].iloc[index]} {bottom_10_cars['model'].iloc[index]}\")\n",
    "\n",
    "# Plot Top 10 cheapest cars\n",
    "fig, ax = plt.subplots(figsize=(10, 6))\n",
    "ax.bar(bottom_10_names, bottom_10_cars['price'])\n",
    "ax.set_xticks(bottom_10_names)\n",
    "ax.set_xticklabels(bottom_10_names, rotation=60)\n",
    "ax.set_xlabel('Car name')\n",
    "ax.set_ylabel('Price')\n",
    "ax.set_title('Top 10 Lowest Price')\n",
    "plt.show()"
   ]
  },
  {
   "cell_type": "code",
   "execution_count": 275,
   "metadata": {},
   "outputs": [
    {
     "name": "stdout",
     "output_type": "stream",
     "text": [
      "Manufacturer with most cars is Mercedes-Benz with 4857 cars.\n"
     ]
    }
   ],
   "source": [
    "# 3.1. Which manufacturer has more cars?\n",
    "more_manufact_no_cars = df['manufacturer'].value_counts().iloc[0]\n",
    "more_manufact_name = df['manufacturer'].mode().iloc[0]\n",
    "print(f\"Manufacturer with most cars is {more_manufact_name} with {more_manufact_no_cars} cars.\")\n"
   ]
  },
  {
   "cell_type": "code",
   "execution_count": 313,
   "metadata": {},
   "outputs": [
    {
     "data": {
      "image/png": "[encoded data removed]",
      "text/plain": [
       "<Figure size 1000x600 with 1 Axes>"
      ]
     },
     "metadata": {},
     "output_type": "display_data"
    }
   ],
   "source": [
    "# 3.1.1. Plot 10 manufacturer with most cars\n",
    "count_10_manufact = df[\"manufacturer\"].value_counts().sort_values(ascending=False).head(10)\n",
    "manufact_names = count_10_manufact.index[:].to_list()\n",
    "\n",
    "# Plot Top 10 manufacturer by number of cars\n",
    "fig, ax = plt.subplots(figsize=(10, 6))\n",
    "ax.bar(manufact_names, count_10_manufact)\n",
    "ax.set_xticks(manufact_names)\n",
    "ax.set_xticklabels(manufact_names, rotation=60)\n",
    "ax.set_xlabel('Manufacturer')\n",
    "ax.set_ylabel('Number of cars')\n",
    "ax.set_title('Top 10 Manufacturer by number of cars')\n",
    "plt.show()"
   ]
  },
  {
   "cell_type": "code",
   "execution_count": 318,
   "metadata": {},
   "outputs": [
    {
     "name": "stdout",
     "output_type": "stream",
     "text": [
      "The most cars are of model Passat with 1144 cars.\n"
     ]
    }
   ],
   "source": [
    "# 3.2. Which model has more cars?\n",
    "more_model_no_cars = df['model'].value_counts().iloc[0]\n",
    "more_model_name = df['model'].mode().iloc[0]\n",
    "print(f\"The most cars are of model {more_model_name} with {more_model_no_cars} cars.\")"
   ]
  },
  {
   "cell_type": "code",
   "execution_count": 315,
   "metadata": {},
   "outputs": [
    {
     "data": {
      "image/png": "[encoded data removed]",
      "text/plain": [
       "<Figure size 1000x600 with 1 Axes>"
      ]
     },
     "metadata": {},
     "output_type": "display_data"
    }
   ],
   "source": [
    "# 3.2.1. Plot 10 model with most cars\n",
    "count_10_model = df[\"model\"].value_counts().sort_values(ascending=False).head(10)\n",
    "model_names = count_10_model.index[:].to_list()\n",
    "\n",
    "# Plot Top 10 manufacturer by number of cars\n",
    "fig, ax = plt.subplots(figsize=(10, 6))\n",
    "ax.bar(model_names, count_10_model)\n",
    "ax.set_xticks(model_names)\n",
    "ax.set_xticklabels(model_names, rotation=60)\n",
    "ax.set_xlabel('Model')\n",
    "ax.set_ylabel('Number of cars')\n",
    "ax.set_title('Top 10 Models by number of cars')\n",
    "plt.show()"
   ]
  },
  {
   "cell_type": "code",
   "execution_count": 147,
   "metadata": {},
   "outputs": [
    {
     "name": "stdout",
     "output_type": "stream",
     "text": [
      "Manufacturer with most cars is Ineos with 1 cars.\n"
     ]
    }
   ],
   "source": [
    "# 3.3. Which manufacturer has less cars?\n",
    "manufact_no_cars = df['manufacturer'].value_counts().min()\n",
    "manufact_name = df['manufacturer'].value_counts().idxmin()\n",
    "print(f\"Manufacturer with most cars is {manufact_name} with {manufact_no_cars} cars.\")"
   ]
  },
  {
   "cell_type": "code",
   "execution_count": 320,
   "metadata": {},
   "outputs": [
    {
     "data": {
      "image/png": "[encoded data removed]",
      "text/plain": [
       "<Figure size 1000x600 with 1 Axes>"
      ]
     },
     "metadata": {},
     "output_type": "display_data"
    }
   ],
   "source": [
    "# 3.3.1. Plot 10 manufacturer with fewest cars\n",
    "count_10_manufact = df[\"manufacturer\"].value_counts().sort_values(ascending=True).head(10)\n",
    "manufact_names = count_10_manufact.index[:].to_list()\n",
    "\n",
    "# Plot Bottom 10 manufacturer by number of cars\n",
    "fig, ax = plt.subplots(figsize=(10, 6))\n",
    "ax.bar(manufact_names, count_10_manufact)\n",
    "ax.set_xticks(manufact_names)\n",
    "ax.set_xticklabels(manufact_names, rotation=60)\n",
    "ax.set_xlabel('Manufacturer')\n",
    "ax.set_ylabel('Number of cars')\n",
    "ax.set_title('Bottom 10 Manufacturer by number of cars')\n",
    "plt.show()"
   ]
  },
  {
   "cell_type": "code",
   "execution_count": 322,
   "metadata": {},
   "outputs": [
    {
     "name": "stdout",
     "output_type": "stream",
     "text": [
      "Model with fewest cars is M2 M235i with 1 cars.\n"
     ]
    }
   ],
   "source": [
    "# 3.4. Which model has less cars?\n",
    "model_no_cars = df['model'].value_counts().min()\n",
    "model_name = df['model'].value_counts().idxmin()\n",
    "print(f\"Model with fewest cars is {model_name} with {model_no_cars} cars.\")"
   ]
  },
  {
   "cell_type": "code",
   "execution_count": 323,
   "metadata": {},
   "outputs": [
    {
     "data": {
      "image/png": "[encoded data removed]",
      "text/plain": [
       "<Figure size 1000x600 with 1 Axes>"
      ]
     },
     "metadata": {},
     "output_type": "display_data"
    }
   ],
   "source": [
    "# 3.4.1. Plot 10 model with fewest cars\n",
    "count_10_model = df[\"model\"].value_counts().sort_values(ascending=True).head(10)\n",
    "model_names = count_10_model.index[:].to_list()\n",
    "\n",
    "# Plot Bottom 10 manufacturer by number of cars\n",
    "fig, ax = plt.subplots(figsize=(10, 6))\n",
    "ax.bar(model_names, count_10_model)\n",
    "ax.set_xticks(model_names)\n",
    "ax.set_xticklabels(model_names, rotation=60)\n",
    "ax.set_xlabel('Model')\n",
    "ax.set_ylabel('Number of cars')\n",
    "ax.set_title('Bottom 10 Models by number of cars')\n",
    "plt.show()"
   ]
  },
  {
   "cell_type": "code",
   "execution_count": 152,
   "metadata": {},
   "outputs": [
    {
     "name": "stdout",
     "output_type": "stream",
     "text": [
      "The most expensive manufacturer at average is Rolls-Royce with average price of 364534.1 EUR/car.\n"
     ]
    }
   ],
   "source": [
    "# 4.1. Which manufacturer is the most expensive at average?\n",
    "expensive_avg_price_per_manufact = df.groupby('manufacturer')['price'].mean().sort_values(ascending=False)\n",
    "print(f\"The most expensive manufacturer at average is {expensive_avg_price_per_manufact.index[0]} with average price of {expensive_avg_price_per_manufact.iloc[0]} EUR/car.\")"
   ]
  },
  {
   "cell_type": "code",
   "execution_count": 154,
   "metadata": {},
   "outputs": [
    {
     "name": "stdout",
     "output_type": "stream",
     "text": [
      "The most expensive model at average is Purosangue with average price of 918680.0 EUR/car.\n"
     ]
    }
   ],
   "source": [
    "# 4.2. Which model is the most expensive at average?\n",
    "expensive_avg_price_per_model = df.groupby('model')['price'].mean().sort_values(ascending=False)\n",
    "print(f\"The most expensive model at average is {expensive_avg_price_per_model.index[0]} with average price of {expensive_avg_price_per_model.iloc[0]} EUR/car.\")"
   ]
  },
  {
   "cell_type": "code",
   "execution_count": 155,
   "metadata": {},
   "outputs": [
    {
     "name": "stdout",
     "output_type": "stream",
     "text": [
      "The cheapest manfacturer at average is Daewoo with average price of 1229.6 EUR/car.\n"
     ]
    }
   ],
   "source": [
    "# 4.3. Which manufacturer is most cheap at average?\n",
    "cheap_avg_price_per_manufact = df.groupby('manufacturer')['price'].mean().sort_values(ascending=True)\n",
    "print(f\"The cheapest manfacturer at average is {cheap_avg_price_per_manufact.index[0]} with average price of {cheap_avg_price_per_manufact.iloc[0]} EUR/car.\")"
   ]
  },
  {
   "cell_type": "code",
   "execution_count": 157,
   "metadata": {},
   "outputs": [
    {
     "name": "stdout",
     "output_type": "stream",
     "text": [
      "The cheapest model at average is Vaneo 1.6 with average price of 750.0 EUR/car.\n"
     ]
    }
   ],
   "source": [
    "# 4.4. Which model is most cheap at average?\n",
    "cheap_avg_price_per_model = df.groupby('model')['price'].mean().sort_values(ascending=True)\n",
    "print(f\"The cheapest model at average is {cheap_avg_price_per_model.index[0]} with average price of {cheap_avg_price_per_model.iloc[0]} EUR/car.\")"
   ]
  },
  {
   "cell_type": "code",
   "execution_count": 158,
   "metadata": {},
   "outputs": [
    {
     "name": "stdout",
     "output_type": "stream",
     "text": [
      "The most cars are in Bucuresti county with 12848 cars.\n"
     ]
    }
   ],
   "source": [
    "# 5.1. In which county are selling most cars?\n",
    "county_max_cars = df['county'].value_counts()\n",
    "print(f\"The most cars are in {county_max_cars.idxmax()} county with {county_max_cars.max()} cars.\")\n"
   ]
  },
  {
   "cell_type": "code",
   "execution_count": 159,
   "metadata": {},
   "outputs": [
    {
     "name": "stdout",
     "output_type": "stream",
     "text": [
      "The most cars are in Bucuresti city with 8696 cars.\n"
     ]
    }
   ],
   "source": [
    "# 5.2. In which city are selling most cars?\n",
    "city_max_cars = df['city'].value_counts()\n",
    "print(f\"The most cars are in {city_max_cars.idxmax()} city with {city_max_cars.max()} cars.\")"
   ]
  },
  {
   "cell_type": "code",
   "execution_count": 176,
   "metadata": {},
   "outputs": [
    {
     "name": "stdout",
     "output_type": "stream",
     "text": [
      "The fewest cars are in German county with 1 cars.\n"
     ]
    }
   ],
   "source": [
    "# 5.3. In which county are selling fewest cars?\n",
    "county_max_cars = df['county'].value_counts()\n",
    "print(f\"The fewest cars are in {county_max_cars.idxmin()} county with {county_max_cars.min()} cars.\")"
   ]
  },
  {
   "cell_type": "code",
   "execution_count": 177,
   "metadata": {},
   "outputs": [
    {
     "name": "stdout",
     "output_type": "stream",
     "text": [
      "The fewest cars are in Maneciu-Ungureni city with 1 cars.\n"
     ]
    }
   ],
   "source": [
    "# 5.4. In which city are selling fewest cars?\n",
    "city_max_cars = df['city'].value_counts()\n",
    "print(f\"The fewest cars are in {city_max_cars.idxmin()} city with {city_max_cars.min()} cars.\")"
   ]
  },
  {
   "cell_type": "code",
   "execution_count": 178,
   "metadata": {},
   "outputs": [
    {
     "name": "stdout",
     "output_type": "stream",
     "text": [
      "The most cars with total number of 22736 cars are used Diesel fuel.\n"
     ]
    }
   ],
   "source": [
    "# 6.1. Which type of fuel is the most selling?\n",
    "fuel_max_count = df['fuel'].value_counts()\n",
    "print(f\"The most cars with total number of {fuel_max_count.max()} cars are used {fuel_max_count.idxmax()} fuel.\")"
   ]
  },
  {
   "cell_type": "code",
   "execution_count": 179,
   "metadata": {},
   "outputs": [
    {
     "name": "stdout",
     "output_type": "stream",
     "text": [
      "The fewest cars with total number of 18 cars are used Benzina + CNG fuel.\n"
     ]
    }
   ],
   "source": [
    "# 6.2. Which type of fuel is the less selling?\n",
    "fuel_min_count = df['fuel'].value_counts()\n",
    "print(f\"The fewest cars with total number of {fuel_min_count.min()} cars are used {fuel_min_count.idxmin()} fuel.\")"
   ]
  },
  {
   "cell_type": "code",
   "execution_count": 180,
   "metadata": {},
   "outputs": [
    {
     "name": "stdout",
     "output_type": "stream",
     "text": [
      "The max capacity of 8200 HP has Cadillac Eldorado.\n"
     ]
    }
   ],
   "source": [
    "# 7.1. Which is the biggest engine capacity?\n",
    "max_capacity = df[df['capacity'] == df['capacity'].max()]\n",
    "print(f\"The max capacity of {max_capacity['capacity'].iloc[0]} HP has {max_capacity['manufacturer'].iloc[0]} {max_capacity['model'].iloc[0]}.\")"
   ]
  },
  {
   "cell_type": "code",
   "execution_count": 181,
   "metadata": {},
   "outputs": [
    {
     "name": "stdout",
     "output_type": "stream",
     "text": [
      "The max capacity of 0 HP has Aixam City.\n"
     ]
    }
   ],
   "source": [
    "# 7.2. Which is the smallest engine capacity?\n",
    "min_capacity = df[df['capacity'] == df['capacity'].min()]\n",
    "print(f\"The max capacity of {min_capacity['capacity'].iloc[0]} HP has {min_capacity['manufacturer'].iloc[0]} {min_capacity['model'].iloc[0]}.\")"
   ]
  },
  {
   "cell_type": "code",
   "execution_count": 184,
   "metadata": {},
   "outputs": [
    {
     "name": "stdout",
     "output_type": "stream",
     "text": [
      "The max mileage of 2800000 KM has BMW X5 xDrive30d.\n"
     ]
    }
   ],
   "source": [
    "# 8.1. Which is the biggest milleage?\n",
    "max_mileage = df[df['mileage'] == df['mileage'].max()]\n",
    "print(f\"The max mileage of {max_mileage['mileage'].iloc[0]} KM has {max_mileage['manufacturer'].iloc[0]} {max_mileage['model'].iloc[0]}.\")"
   ]
  },
  {
   "cell_type": "code",
   "execution_count": 185,
   "metadata": {},
   "outputs": [
    {
     "name": "stdout",
     "output_type": "stream",
     "text": [
      "The min mileage of 0 KM has Aixam Crossover.\n"
     ]
    }
   ],
   "source": [
    "# 8.2. Which is the smallest milleage?\n",
    "min_mileage = df[df['mileage'] == df['mileage'].min()]\n",
    "print(f\"The min mileage of {min_mileage['mileage'].iloc[0]} KM has {min_mileage['manufacturer'].iloc[0]} {min_mileage['model'].iloc[0]}.\")"
   ]
  },
  {
   "cell_type": "code",
   "execution_count": 186,
   "metadata": {},
   "outputs": [
    {
     "name": "stdout",
     "output_type": "stream",
     "text": [
      "Number of cars that were manufactured in 2023 is 2782.\n"
     ]
    }
   ],
   "source": [
    "# 9. How many cars are manufactured in current year?\n",
    "current_year = datetime.now().year\n",
    "current_year_no_cars = df[df['year'] == 2023].shape[0]\n",
    "print(f\"Number of cars that were manufactured in 2023 is {current_year_no_cars}.\")"
   ]
  }
 ],
 "metadata": {
  "kernelspec": {
   "display_name": "Python 3",
   "language": "python",
   "name": "python3"
  },
  "language_info": {
   "codemirror_mode": {
    "name": "ipython",
    "version": 3
   },
   "file_extension": ".py",
   "mimetype": "text/x-python",
   "name": "python",
   "nbconvert_exporter": "python",
   "pygments_lexer": "ipython3",
   "version": "3.11.5"
  }
 },
 "nbformat": 4,
 "nbformat_minor": 2
}
